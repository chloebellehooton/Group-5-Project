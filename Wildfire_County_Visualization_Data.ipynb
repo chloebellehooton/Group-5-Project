{
 "cells": [
  {
   "cell_type": "code",
   "execution_count": 1,
   "id": "taken-marketing",
   "metadata": {},
   "outputs": [],
   "source": [
    "import pandas as pd\n",
    "\n",
    "import os"
   ]
  },
  {
   "cell_type": "code",
   "execution_count": 2,
   "id": "wanted-drove",
   "metadata": {},
   "outputs": [
    {
     "data": {
      "text/plain": [
       "'C:\\\\Users\\\\TAHIRA\\\\Documents\\\\UC Berkeley\\\\Group-5-Project'"
      ]
     },
     "execution_count": 2,
     "metadata": {},
     "output_type": "execute_result"
    }
   ],
   "source": [
    "os.getcwd()"
   ]
  },
  {
   "cell_type": "code",
   "execution_count": 10,
   "id": "digital-canvas",
   "metadata": {},
   "outputs": [
    {
     "ename": "NameError",
     "evalue": "name 'California_Fire_Incidents' is not defined",
     "output_type": "error",
     "traceback": [
      "\u001b[1;31m---------------------------------------------------------------------------\u001b[0m",
      "\u001b[1;31mNameError\u001b[0m                                 Traceback (most recent call last)",
      "\u001b[1;32m<ipython-input-10-eb15825d1e6e>\u001b[0m in \u001b[0;36m<module>\u001b[1;34m\u001b[0m\n\u001b[0;32m      5\u001b[0m \u001b[1;33m\u001b[0m\u001b[0m\n\u001b[0;32m      6\u001b[0m \u001b[1;31m# \"Resources/California_Fire_Incidents.csv\"\u001b[0m\u001b[1;33m\u001b[0m\u001b[1;33m\u001b[0m\u001b[1;33m\u001b[0m\u001b[0m\n\u001b[1;32m----> 7\u001b[1;33m \u001b[0mwildfire_data\u001b[0m \u001b[1;33m=\u001b[0m \u001b[0mos\u001b[0m\u001b[1;33m.\u001b[0m\u001b[0mpath\u001b[0m\u001b[1;33m.\u001b[0m\u001b[0mjoin\u001b[0m\u001b[1;33m(\u001b[0m\u001b[0mCalifornia_Fire_Incidents\u001b[0m\u001b[1;33m.\u001b[0m\u001b[0mcsv\u001b[0m\u001b[1;33m)\u001b[0m\u001b[1;33m\u001b[0m\u001b[1;33m\u001b[0m\u001b[0m\n\u001b[0m\u001b[0;32m      8\u001b[0m \u001b[0mwildfire_df\u001b[0m \u001b[1;33m=\u001b[0m \u001b[0mpd\u001b[0m\u001b[1;33m.\u001b[0m\u001b[0mread_csv\u001b[0m\u001b[1;33m(\u001b[0m\u001b[0mwildfire_data\u001b[0m\u001b[1;33m)\u001b[0m\u001b[1;33m\u001b[0m\u001b[1;33m\u001b[0m\u001b[0m\n",
      "\u001b[1;31mNameError\u001b[0m: name 'California_Fire_Incidents' is not defined"
     ]
    }
   ],
   "source": [
    "# 1. Create a DataFrame for the California_Fire_Incidents data. \n",
    "\n",
    "# Use pd.read_csv()\n",
    "#wildfire_data = ,\"..resources\",\n",
    "\n",
    "# \"Resources/California_Fire_Incidents.csv\"\n",
    "wildfire_data = os.path.join(\"California_Fire_Incidents.csv\")\n",
    "wildfire_df = pd.read_csv(wildfire_data)"
   ]
  },
  {
   "cell_type": "code",
   "execution_count": null,
   "id": "brown-consultation",
   "metadata": {},
   "outputs": [],
   "source": [
    "wildfire_df.head()"
   ]
  },
  {
   "cell_type": "code",
   "execution_count": null,
   "id": "lined-soldier",
   "metadata": {},
   "outputs": [],
   "source": [
    "# 2. Check the datatypes of your columns. Using .info()\n",
    "wildfire_df.info()"
   ]
  },
  {
   "cell_type": "code",
   "execution_count": null,
   "id": "saved-season",
   "metadata": {},
   "outputs": [],
   "source": [
    "# 3. Convert the 'tripduration' column to datetime datatype.\n",
    "\n",
    "    # Step 1: Use dataset of column 'DateTime' = 'tripdur_orig' \n",
    "            # Ex: \n",
    "            # df['DateTime'] = pd.to_datetime(df['DateTime'])\n",
    "\n",
    "    # Step 2: Use the 'step 1' code to convert the datetime format, \n",
    "            # then do a split in the comlumn to have 'Date' and 'Time' \n",
    "            # Ex: \n",
    "            # df['date'] = df['DateTime'].dt.date\n",
    "            # df'time'] = df['DateTime'].dt.time\n",
    "            \n",
    "    # Ex: \n",
    "        # Converting 200 seconds to 3 mins and 20 secs in format 03:20:00, the units in the to_datetime() function have to be specified.\n",
    "        # various units: ns for nanoseconds, us for microseconds, ms for milliseconds, s for seconds, m for minutes, D for days.\n",
    "        # To get desired format 03:20:00 when converting 200 seconds from an integer to a datetype.\n",
    "        # pd.to_datetime(200, unit='us')\n",
    "            \n",
    "#wildfire_df['tripdur_orig'] = wildfire_df['UniqueId']\n",
    "#wildfire_df['tripduration'] = pd.to_datetime(wildfire_df['tripduration'], unit='m')\n",
    "#wildfire_df['UniqueId'] = pd.to_datetime(wildfire_df['UniqueId'], unit='D')\n",
    "#wildfire_df.head()"
   ]
  },
  {
   "cell_type": "code",
   "execution_count": null,
   "id": "concerned-moldova",
   "metadata": {},
   "outputs": [],
   "source": [
    "# 4. Check the datatypes of your columns. Using .info() '1970-01-01 00:00:00'\n",
    "wildfire_df.info()"
   ]
  },
  {
   "cell_type": "code",
   "execution_count": null,
   "id": "mechanical-frost",
   "metadata": {},
   "outputs": [],
   "source": [
    "# 5. Export the Dataframe as a new CSV file without the index. Use 'index=False' to complete without the index.\n",
    "\n",
    "# \"Resources/California_Fire_Incidents.csv\"\n",
    "wildfire_df.to_csv('California_Fire_updt.csv', index=False)"
   ]
  },
  {
   "cell_type": "code",
   "execution_count": null,
   "id": "permanent-broadway",
   "metadata": {},
   "outputs": [],
   "source": []
  }
 ],
 "metadata": {
  "kernelspec": {
   "display_name": "Python 3",
   "language": "python",
   "name": "python3"
  },
  "language_info": {
   "codemirror_mode": {
    "name": "ipython",
    "version": 3
   },
   "file_extension": ".py",
   "mimetype": "text/x-python",
   "name": "python",
   "nbconvert_exporter": "python",
   "pygments_lexer": "ipython3",
   "version": "3.7.6"
  }
 },
 "nbformat": 4,
 "nbformat_minor": 5
}
